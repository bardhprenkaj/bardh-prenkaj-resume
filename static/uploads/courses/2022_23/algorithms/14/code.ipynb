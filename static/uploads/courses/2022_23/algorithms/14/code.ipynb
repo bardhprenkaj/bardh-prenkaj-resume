{
  "nbformat": 4,
  "nbformat_minor": 0,
  "metadata": {
    "colab": {
      "provenance": []
    },
    "kernelspec": {
      "name": "python3",
      "display_name": "Python 3"
    },
    "language_info": {
      "name": "python"
    }
  },
  "cells": [
    {
      "cell_type": "markdown",
      "source": [
        "# Defining a Binary Tree\n",
        "\n",
        "First, we'll define a ```Node``` class to represent a node in a binary tree. Each node will have a value, a left child, and a right child.\n",
        "\n"
      ],
      "metadata": {
        "id": "WX51kLUYKWjm"
      }
    },
    {
      "cell_type": "code",
      "execution_count": 1,
      "metadata": {
        "id": "7p3G2C08JsA6"
      },
      "outputs": [],
      "source": [
        "class Node:\n",
        "  def __init__(self, value):\n",
        "    self.value = value\n",
        "    self.left = None\n",
        "    self.right = None"
      ]
    },
    {
      "cell_type": "markdown",
      "source": [
        "# Recursive Depth First Search (DFS)\n",
        "\n",
        "To perform a recursive DFS on a binary tree, we'll define a ```dfs_recursive``` function that takes a starting node as input. This function will first check if the starting node is ```None```, and if so, it will return without doing anything. Otherwise, it will recursively call itself on the left child of the starting node, then the right child of the starting node, and finally visit the value of the starting node."
      ],
      "metadata": {
        "id": "If1941AbKlhQ"
      }
    },
    {
      "cell_type": "code",
      "source": [
        "def dfs_recursive(node):\n",
        "  if node is None:\n",
        "    return\n",
        "  dfs_recursive(node.left)\n",
        "  dfs_recursive(node.right)\n",
        "  print(node.value)"
      ],
      "metadata": {
        "id": "yGhruG97KjMQ"
      },
      "execution_count": 2,
      "outputs": []
    },
    {
      "cell_type": "markdown",
      "source": [
        "# Iterative DFS\n",
        "\n",
        "To perform an iterative DFS on a binary tree, we'll use a stack data structure to keep track of the nodes we need to visit. We'll start by pushing the root node onto the stack, and then we'll repeatedly pop a node from the stack, visit its value, and push its right child and left child (if they exist) onto the stack."
      ],
      "metadata": {
        "id": "a3gEmUaBK665"
      }
    },
    {
      "cell_type": "code",
      "source": [
        "def dfs_iterative(node):\n",
        "  stack = [node]\n",
        "  while stack:\n",
        "    node = stack.pop()\n",
        "    if node is not None:\n",
        "      print(node.value)\n",
        "      stack.append(node.right)\n",
        "      stack.append(node.left)"
      ],
      "metadata": {
        "id": "drQHFIrnK5ad"
      },
      "execution_count": 3,
      "outputs": []
    },
    {
      "cell_type": "markdown",
      "source": [
        "# Example usage\n",
        "\n",
        "Now let's create a binary tree with the following structure:\n",
        "\n",
        "```\n",
        "      1\n",
        "    /   \\\n",
        "   2     3\n",
        "  / \\     \\\n",
        " 4   5     6\n",
        "```\n",
        "\n",
        "We can create this tree by creating a ```Node``` object for each node and setting its left and right children as appropriate:\n",
        "\n",
        "\n"
      ],
      "metadata": {
        "id": "nAhhZU6FLCEV"
      }
    },
    {
      "cell_type": "code",
      "source": [
        "root = Node(1)\n",
        "root.left = Node(2)\n",
        "root.right = Node(3)\n",
        "root.left.left = Node(4)\n",
        "root.left.right = Node(5)\n",
        "root.right.right = Node(6)"
      ],
      "metadata": {
        "id": "0t_vHcsTLAhb"
      },
      "execution_count": 4,
      "outputs": []
    },
    {
      "cell_type": "markdown",
      "source": [
        "Now we can call our ```dfs_recursive``` and ```dfs_iterative``` functions with the root node:\n",
        "\n"
      ],
      "metadata": {
        "id": "NeNLWKf_LUex"
      }
    },
    {
      "cell_type": "code",
      "source": [
        "print(\"Recursive DFS:\")\n",
        "dfs_recursive(root)\n",
        "\n",
        "print(\"\\nIterative DFS:\")\n",
        "dfs_iterative(root)"
      ],
      "metadata": {
        "colab": {
          "base_uri": "https://localhost:8080/"
        },
        "id": "md1XJexWLSGs",
        "outputId": "5f4ed410-3a5a-4d97-e0a3-b782d46344ab"
      },
      "execution_count": 5,
      "outputs": [
        {
          "output_type": "stream",
          "name": "stdout",
          "text": [
            "Recursive DFS:\n",
            "4\n",
            "5\n",
            "2\n",
            "6\n",
            "3\n",
            "1\n",
            "\n",
            "Iterative DFS:\n",
            "1\n",
            "2\n",
            "4\n",
            "5\n",
            "3\n",
            "6\n"
          ]
        }
      ]
    },
    {
      "cell_type": "markdown",
      "source": [
        "As you can see, both the recursive and iterative DFS algorithms visit the nodes in the same order. The only difference is the order in which they visit the left and right children of each node.\n",
        "\n"
      ],
      "metadata": {
        "id": "ae1NUKBSLhjf"
      }
    },
    {
      "cell_type": "markdown",
      "source": [
        "# Different orders of visits\n",
        "\n",
        "In a depth-first search (DFS) traversal of a binary tree, there are three common ways to visit each node: in-order, pre-order, and post-order. These traversals differ in the order in which they visit the nodes relative to their children.\n",
        "\n",
        "Here's a brief explanation of each traversal order:\n",
        "\n",
        "1. **In-order traversal**: In an in-order traversal, we visit the left child of a node, then the node itself, and finally the right child of the node. This traversal visits the nodes in ascending order if the tree represents a sorted binary tree. In other words, if the tree is a binary search tree, an in-order traversal will visit the nodes in sorted order.\n",
        "\n",
        "2. **Pre-order traversal**: In a pre-order traversal, we visit the node itself before visiting its children. Specifically, we first visit the node, then its left child, and finally its right child.\n",
        "\n",
        "3. **Post-order traversal**: In a post-order traversal, we visit the left child of a node, then its right child, and finally the node itself. We visit a node only after we've visited its children. This traversal is often used to delete a tree since we can delete a node only after we've deleted its children.\n",
        "\n",
        "Here's an example of each traversal order on a binary tree:\n",
        "\n",
        "\n",
        "\n",
        "```\n",
        "           1\n",
        "         /   \\\n",
        "        2     3\n",
        "       / \\     \\\n",
        "      4   5     6\n",
        "```\n",
        "\n",
        "* In-order traversal: 4 2 5 1 3 6\n",
        "* Pre-order traversal: 1 2 4 5 3 6\n",
        "* Post-order traversal: 4 5 2 6 3 1\n",
        "\n",
        "Note that each traversal order visits the nodes in a different order. In the in-order traversal, we visit the nodes in ascending order. In the pre-order traversal, we visit the root node first. In the post-order traversal, we visit the children of a node before visiting the node itself.\n",
        "\n",
        "Each traversal order has its own use case, depending on what you want to accomplish with the traversal. For example, if you want to print the nodes of a binary search tree in sorted order, you would use an in-order traversal. If you want to clone a binary tree, you would use a pre-order traversal. If you want to delete a binary tree, you would use a post-order traversal.\n",
        "\n"
      ],
      "metadata": {
        "id": "-l11NwpMLmXH"
      }
    },
    {
      "cell_type": "markdown",
      "source": [
        "## In-order traversal (printing nodes)\n",
        "\n",
        "To print the nodes of a binary search tree in sorted order using an in-order traversal, we simply need to visit the left subtree, then the current node, and then the right subtree. Here's how we can implement this in Python:"
      ],
      "metadata": {
        "id": "-pj3NfNONSis"
      }
    },
    {
      "cell_type": "code",
      "source": [
        "class Node:\n",
        "  def __init__(self, value):\n",
        "    self.value = value\n",
        "    self.left = None\n",
        "    self.right = None\n",
        "      \n",
        "def print_inorder(node):\n",
        "  if node is not None:\n",
        "    # Recursively print the left subtree\n",
        "    print_inorder(node.left)\n",
        "    # Print the current node\n",
        "    print(node.value)\n",
        "    # Recursively print the right subtree\n",
        "    print_inorder(node.right)"
      ],
      "metadata": {
        "id": "Uz6_cIP6NXM8"
      },
      "execution_count": 10,
      "outputs": []
    },
    {
      "cell_type": "markdown",
      "source": [
        "We can test our ```print_inorder``` function with the following example binary search tree:\n",
        "\n",
        "```\n",
        "           4\n",
        "         /   \\\n",
        "        2     6\n",
        "       / \\   / \\\n",
        "      1   3 5   7\n",
        "```\n",
        "\n"
      ],
      "metadata": {
        "id": "GLpbCvGiNd5f"
      }
    },
    {
      "cell_type": "code",
      "source": [
        "root = Node(4)\n",
        "root.left = Node(2)\n",
        "root.right = Node(6)\n",
        "root.left.left = Node(1)\n",
        "root.left.right = Node(3)\n",
        "root.right.left = Node(5)\n",
        "root.right.right = Node(7)"
      ],
      "metadata": {
        "id": "AV-UIJljNiMW"
      },
      "execution_count": 11,
      "outputs": []
    },
    {
      "cell_type": "markdown",
      "source": [
        "We can print the nodes of the binary search tree in sorted order by calling ```print_inorder``` with the root node:\n",
        "\n"
      ],
      "metadata": {
        "id": "6Y1JFbZvNlUi"
      }
    },
    {
      "cell_type": "code",
      "source": [
        "print_inorder(root)"
      ],
      "metadata": {
        "colab": {
          "base_uri": "https://localhost:8080/"
        },
        "id": "Tlh3yxYBNl22",
        "outputId": "cc5f36cd-5e72-4487-e773-b02c926b9b95"
      },
      "execution_count": 12,
      "outputs": [
        {
          "output_type": "stream",
          "name": "stdout",
          "text": [
            "1\n",
            "2\n",
            "3\n",
            "4\n",
            "5\n",
            "6\n",
            "7\n"
          ]
        }
      ]
    },
    {
      "cell_type": "markdown",
      "source": [
        "## Pre-order traversal (cloning a binary tree)\n",
        "\n",
        "To clone a binary tree using a pre-order traversal, we can create a new node for each visited node in the original tree and recursively clone its left and right subtrees. Here's how we can implement this in Python:"
      ],
      "metadata": {
        "id": "kOrFB4cMMYLY"
      }
    },
    {
      "cell_type": "code",
      "source": [
        "class Node:\n",
        "  def __init__(self, value):\n",
        "    self.value = value\n",
        "    self.left = None\n",
        "    self.right = None\n",
        "\n",
        "def clone_tree(node):\n",
        "  if node is None:\n",
        "    return None\n",
        "  # Create a new node with the same value as the current node\n",
        "  new_node = Node(node.value)\n",
        "  # Recursively clone the left subtree and assign it to the new node's left child\n",
        "  new_node.left = clone_tree(node.left)\n",
        "  # Recursively clone the right subtree and assign it to the new node's right child\n",
        "  new_node.right = clone_tree(node.right)\n",
        "  # Return the new node\n",
        "  return new_node"
      ],
      "metadata": {
        "id": "4NCrvIvALZNG"
      },
      "execution_count": 6,
      "outputs": []
    },
    {
      "cell_type": "markdown",
      "source": [
        "We can test our ```clone_tree``` function with the following example tree:\n",
        "\n",
        "\n",
        "\n",
        "```\n",
        "           1\n",
        "         /   \\\n",
        "        2     3\n",
        "       / \\     \\\n",
        "      4   5     6\n",
        "```\n",
        "\n",
        "\n",
        "\n"
      ],
      "metadata": {
        "id": "yPKyfBaiMjSe"
      }
    },
    {
      "cell_type": "code",
      "source": [
        "root = Node(1)\n",
        "root.left = Node(2)\n",
        "root.right = Node(3)\n",
        "root.left.left = Node(4)\n",
        "root.left.right = Node(5)\n",
        "root.right.right = Node(6)"
      ],
      "metadata": {
        "id": "4iA2MDmFMw91"
      },
      "execution_count": 8,
      "outputs": []
    },
    {
      "cell_type": "markdown",
      "source": [
        "We can clone the original tree by calling ```clone_tree``` with the root node:\n",
        "\n"
      ],
      "metadata": {
        "id": "bUAKTzBNMy66"
      }
    },
    {
      "cell_type": "code",
      "source": [
        "cloned_tree = clone_tree(root)"
      ],
      "metadata": {
        "id": "_6s7FKpqM4ee"
      },
      "execution_count": 9,
      "outputs": []
    },
    {
      "cell_type": "markdown",
      "source": [
        "Now ```cloned_tree``` is a new binary tree that is a clone of the original tree. We can verify that the two trees are identical by checking that their in-order, pre-order, or post-order traversals produce the same sequence of nodes. For example, the in-order traversal of both trees should be ```4 2 5 1 3 6```."
      ],
      "metadata": {
        "id": "fgryFUVmM8Jt"
      }
    },
    {
      "cell_type": "markdown",
      "source": [
        "## Post-order traversal (deleting a binary tree)\n",
        "\n",
        "To delete a binary tree using post-order traversal, we need to first delete the left and right subtrees of the current node, and then delete the current node itself. Here's how we can implement this in Python:\n"
      ],
      "metadata": {
        "id": "TCLlUwhHN8zT"
      }
    },
    {
      "cell_type": "code",
      "source": [
        "class Node:\n",
        "  def __init__(self, value):\n",
        "    self.value = value\n",
        "    self.left = None\n",
        "    self.right = None\n",
        "      \n",
        "def delete_tree(node):\n",
        "  if node is not None:\n",
        "    # Recursively delete the left subtree\n",
        "    delete_tree(node.left)\n",
        "    # Recursively delete the right subtree\n",
        "    delete_tree(node.right)\n",
        "    # Delete the current node\n",
        "    del node"
      ],
      "metadata": {
        "id": "bvk_1NlJM47H"
      },
      "execution_count": 13,
      "outputs": []
    },
    {
      "cell_type": "markdown",
      "source": [
        "We can test our ```delete_tree``` function with the following example binary tree:\n",
        "\n",
        "```\n",
        "           1\n",
        "         /   \\\n",
        "        2     3\n",
        "       / \\     \\\n",
        "      4   5     6\n",
        "```\n",
        "\n"
      ],
      "metadata": {
        "id": "polWTOGPOERE"
      }
    },
    {
      "cell_type": "code",
      "source": [
        "root = Node(1)\n",
        "root.left = Node(2)\n",
        "root.right = Node(3)\n",
        "root.left.left = Node(4)\n",
        "root.left.right = Node(5)\n",
        "root.right.right = Node(6)"
      ],
      "metadata": {
        "id": "9-OAt11DOIu5"
      },
      "execution_count": 14,
      "outputs": []
    },
    {
      "cell_type": "code",
      "source": [
        "delete_tree(root)"
      ],
      "metadata": {
        "id": "HNDwh7ErOC3L"
      },
      "execution_count": 15,
      "outputs": []
    },
    {
      "cell_type": "markdown",
      "source": [
        "After calling ```delete_tree```, the binary tree is completely deleted and its memory is freed.\n",
        "\n",
        "It's important to note that in Python, memory management is handled by a garbage collector, which automatically frees memory that is no longer being used by the program. In the case of the ```delete_tree``` function, it's not strictly necessary to manually delete each node, as the garbage collector will eventually free the memory allocated for the binary tree. However, it's still good practice to free memory as soon as it's no longer needed, especially for large data structures."
      ],
      "metadata": {
        "id": "syqyf-DUONFW"
      }
    },
    {
      "cell_type": "markdown",
      "source": [
        "# Exercises\n",
        "\n"
      ],
      "metadata": {
        "id": "TR8j0VYDObGJ"
      }
    },
    {
      "cell_type": "markdown",
      "source": [
        "\n",
        "## Count Children in Subtree of Binary Tree\n",
        "\n",
        "Given a binary tree, write a function to return the number of children in the subtree of each node. For each node in the binary tree, return the total number of children in its subtree, including the node itself."
      ],
      "metadata": {
        "id": "pcRQzJKcQj6F"
      }
    },
    {
      "cell_type": "markdown",
      "source": [
        "Input:\n",
        "\n",
        "* The root node of a binary tree, where each node is an instance of the ```Node``` class defined as follows:"
      ],
      "metadata": {
        "id": "e5z6LDAGPILQ"
      }
    },
    {
      "cell_type": "markdown",
      "source": [
        "Output:\n",
        "\n",
        "* The function does not return anything. Instead, the ```num_children``` attribute of each node in the input binary tree is updated to contain the number of children in its subtree, including the node itself.\n",
        "\n",
        "\n",
        "Example:\n",
        "\n",
        "\n",
        "```\n",
        "Input:\n",
        "          1\n",
        "        /   \\\n",
        "       2     3\n",
        "      / \\     \\\n",
        "     4   5     6\n",
        "\n",
        "Output:\n",
        "Node 4 has 0 children in its subtree\n",
        "Node 2 has 2 children in its subtree\n",
        "Node 5 has 0 children in its subtree\n",
        "Node 1 has 5 children in its subtree\n",
        "Node 3 has 1 children in its subtree\n",
        "Node 6 has 0 children in its subtree\n",
        "```\n",
        "\n",
        "Note:\n",
        "\n",
        "* Each node in the binary tree has at most two children.\n",
        "* The input binary tree may be empty (i.e., the root node is ```None```).\n",
        "\n",
        "\n"
      ],
      "metadata": {
        "id": "wAqpHFLyPSyB"
      }
    },
    {
      "cell_type": "code",
      "source": [
        "class Node:\n",
        "  def __init__(self, value):\n",
        "    self.value = value\n",
        "    self.left = None\n",
        "    self.right = None\n",
        "    self.num_children = 0"
      ],
      "metadata": {
        "id": "9DJJQC1ZPPDk"
      },
      "execution_count": null,
      "outputs": []
    },
    {
      "cell_type": "code",
      "source": [
        "def count_children(root: Node) -> None:\n",
        "  pass"
      ],
      "metadata": {
        "id": "XN7KeaU6OK20"
      },
      "execution_count": null,
      "outputs": []
    },
    {
      "cell_type": "markdown",
      "source": [
        "We can print the number of children for each node by performing an in-order traversal:"
      ],
      "metadata": {
        "id": "mNxVQEsPP0Og"
      }
    },
    {
      "cell_type": "code",
      "source": [
        "def print_children(node):\n",
        "  if node is not None:\n",
        "    # Recursively print the left subtree\n",
        "    print_children(node.left)\n",
        "    # Print the number of children for the current node\n",
        "    print(\"Node\", node.value, \"has\", node.num_children, \"children in its subtree\")\n",
        "    # Recursively print the right subtree\n",
        "    print_children(node.right)"
      ],
      "metadata": {
        "id": "ZJ5HD4FDPkmj"
      },
      "execution_count": null,
      "outputs": []
    },
    {
      "cell_type": "markdown",
      "source": [
        "## Print Left-Most Path of Binary Tree\n",
        "\n",
        "Given a binary tree, write a function to print the left-most path of the tree. The left-most path of a binary tree is defined as the path from the root node to the left-most leaf node.\n",
        "\n",
        "Input:\n",
        "\n",
        "* The root node of a binary tree, where each node is an instance of the ```Node``` class defined as follows:"
      ],
      "metadata": {
        "id": "PomuwR4LQmjD"
      }
    },
    {
      "cell_type": "code",
      "source": [
        "class Node:\n",
        "  def __init__(self, value):\n",
        "    self.value = value\n",
        "    self.left = None\n",
        "    self.right = None"
      ],
      "metadata": {
        "id": "u8v63uJ_QsME"
      },
      "execution_count": 16,
      "outputs": []
    },
    {
      "cell_type": "markdown",
      "source": [
        "Output:\n",
        "\n",
        "* The function prints the left-most path of the binary tree as a list of node values in the order from the root to the left-most leaf node.\n",
        "\n",
        "Example:\n",
        "\n",
        "```\n",
        "Input:\n",
        "           1\n",
        "         /   \\\n",
        "        2     3\n",
        "       / \\     \\\n",
        "      4   5     6\n",
        "         / \\\n",
        "        7   8\n",
        "\n",
        "Output:\n",
        "[1, 2, 4]\n",
        "```\n",
        "Note:\n",
        "\n",
        "* Each node in the binary tree has at most two children.\n",
        "* The input binary tree may be empty (i.e., the root node is ```None```).\n"
      ],
      "metadata": {
        "id": "eintU0S-QvLD"
      }
    },
    {
      "cell_type": "code",
      "source": [
        "def print_leftmost_path(node: Node) -> None:\n",
        "  pass"
      ],
      "metadata": {
        "id": "g_uIhwxPQtkJ"
      },
      "execution_count": null,
      "outputs": []
    },
    {
      "cell_type": "markdown",
      "source": [
        "Testing"
      ],
      "metadata": {
        "id": "2kRISeMdRAxL"
      }
    },
    {
      "cell_type": "code",
      "source": [
        "root = Node(1)\n",
        "root.left = Node(2)\n",
        "root.right = Node(3)\n",
        "root.left.left = Node(4)\n",
        "root.left.right = Node(5)\n",
        "root.left.right.left = Node(7)\n",
        "root.left.right.right = Node(8)\n",
        "root.right.right = Node(6)\n",
        "\n",
        "print_leftmost_path(root)"
      ],
      "metadata": {
        "id": "n4OY94CMRCVZ"
      },
      "execution_count": null,
      "outputs": []
    }
  ]
}