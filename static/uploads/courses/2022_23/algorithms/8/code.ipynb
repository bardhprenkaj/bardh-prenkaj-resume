{
  "nbformat": 4,
  "nbformat_minor": 0,
  "metadata": {
    "colab": {
      "provenance": []
    },
    "kernelspec": {
      "name": "python3",
      "display_name": "Python 3"
    },
    "language_info": {
      "name": "python"
    }
  },
  "cells": [
    {
      "cell_type": "markdown",
      "source": [
        "# K-th missing positive number (easy)\n",
        "\n",
        "Given an array ```arr``` of positive integers sorted in a strictly increasing order, and an integer ```k```.\n",
        "\n",
        "Return the kth positive integer that is missing from this array.\n",
        "\n",
        "Example 1:\n",
        "```\n",
        "Input: arr = [2,3,4,7,11], k = 5\n",
        "Output: 9\n",
        "Explanation: The missing positive integers are [1,5,6,8,9,10,12,13,...]. The 5th missing positive integer is 9.\n",
        "```\n",
        "Example 2:\n",
        "```\n",
        "Input: arr = [1,2,3,4], k = 2\n",
        "Output: 6\n",
        "Explanation: The missing positive integers are [5,6,7,...]. The 2nd missing positive integer is 6.\n",
        "```\n",
        "\n",
        "Constraints:\n",
        "```\n",
        "1 <= arr.length <= 1000\n",
        "1 <= arr[i] <= 1000\n",
        "1 <= k <= 1000\n",
        "arr[i] < arr[j] for 1 <= i < j <= arr.length\n",
        "```\n",
        "\n",
        "**Follow up question**\n",
        "Could you solve this problem in less than O(n) complexity?"
      ],
      "metadata": {
        "id": "fi6oroMPRpJ-"
      }
    },
    {
      "cell_type": "markdown",
      "source": [
        "We are given an array which is sorted in strictly increasing order and a number\n",
        "k. Our task is to find out the k-th positive missing number in the given array.\n",
        "\n",
        "Example: [1,2,3,4], k = 2\n",
        "\n",
        "Output: 6\n",
        "\n",
        "Explanation:\n",
        "\n",
        "![image.png](data:image/png;base64,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)\n",
        "\n",
        "As in the given array, the first missing number is 5 and the second missing number is 6. So, the answer is 6."
      ],
      "metadata": {
        "id": "xxhWXkoWc21f"
      }
    },
    {
      "cell_type": "markdown",
      "source": [
        "## Brute Force approach\n",
        "\n",
        "\n",
        "\n",
        "1.   Traverse the array\n",
        "2.   Every time we will calculate the number of missing numbers.\n",
        "3.   If the number of missing positive numbers is greater than or equal to k then we will return i + k.\n",
        "4.   After the complete traversal of the array if the number of missing elements is less than k then we will return the size of the array + k.\n",
        "\n",
        "\n"
      ],
      "metadata": {
        "id": "Z4_z7oFAdNeG"
      }
    },
    {
      "cell_type": "code",
      "source": [
        "from typing import List\n",
        "\"\"\"\n",
        "O(n) where n = len(arr)\n",
        "\n",
        "The array has only positive integers sorted in strict ascending order\n",
        "(so the array theoretically starts from 1).\n",
        "So ideally, the relationship between the number nums[i] and its corresponding\n",
        "subscript i should be nums[i] = i + 1. So when scanning the input array, if the\n",
        "difference between the number and its corresponding subscript is greater than 1,\n",
        "it means that the number is missing in the middle. When the gap is greater than\n",
        "or equal to K, the Kth missing number is found.\n",
        "\n",
        "\"\"\"\n",
        "def kth_missing_number_naive(arr: List[int], k: int) -> int:\n",
        "  for i in range(len(arr)):\n",
        "    x = arr[i] - (i+1)\n",
        "    if x >= k:\n",
        "      return i + k\n",
        "  return len(arr) + k"
      ],
      "metadata": {
        "id": "OQ26yNq3dMyE"
      },
      "execution_count": null,
      "outputs": []
    },
    {
      "cell_type": "markdown",
      "source": [
        "The time complexity of the above code is **O(n)** because we are using a linear search that takes O(n) time in the worst case. Here n is the length of the given array.\n",
        "\n",
        "The space complexity of the above code is **O(1)** because we are using only a variable to store answer."
      ],
      "metadata": {
        "id": "gAx0Xi47dvre"
      }
    },
    {
      "cell_type": "markdown",
      "source": [
        "## Binary Search approach\n",
        "\n",
        "\n",
        "The time complexity of the above algorithm is O(n) because we may need to traverse the complete array in the worst case. We can improve the time complexity of the solution using a binary search in place of linear search.\n",
        "\n",
        "1. Let's first define the range of our search for binary search. So start will be index 0 and end will be the last index of the given array\n",
        "2.  We will find the mid index then we will check if the number of missing positive numbers is less than k:\n",
        "3. then start will become mid + 1\n",
        "4. else end will become mid\n",
        "\n",
        "5. return end + k\n",
        "\n"
      ],
      "metadata": {
        "id": "JhX1F42Jd7Dc"
      }
    },
    {
      "cell_type": "code",
      "source": [
        "from typing import List\n",
        "\"\"\"\n",
        "O(log(len(arr)))\n",
        "\n",
        "Let's use binary search. Because the input array is ordered, we can find the\n",
        "midpoint in mid. Then we compare the current number on the index with the\n",
        "difference between the index. If the difference is less than k, look for the\n",
        "right half of the array; otherwise, look for the left half of the array.\n",
        "\n",
        "\"\"\"\n",
        "def kth_missing_number(arr: List[int], k: int) -> int:\n",
        "  left, right = 0, len(arr)\n",
        "  while left < right:\n",
        "    mid = (left + right) // 2\n",
        "    x = arr[mid] - (mid + 1)\n",
        "    if x < k:\n",
        "      left = mid + 1\n",
        "    else:\n",
        "      right = mid\n",
        "  return left + k"
      ],
      "metadata": {
        "id": "U3fWIjTjc0t4"
      },
      "execution_count": null,
      "outputs": []
    },
    {
      "cell_type": "markdown",
      "source": [
        "The time complexity of the above code is **O(log n)** because we are using a binary search that takes O(logn) time in the worst case. Here n is the length of the given array.\n",
        "\n",
        "The space complexity of the above code is **O(1)** because we are using only a variable to store answer."
      ],
      "metadata": {
        "id": "_-V3dnYeeyy5"
      }
    },
    {
      "cell_type": "markdown",
      "source": [
        "# Search in Rotated Sorted Arrays (medium)\n",
        "\n",
        "There is an integer array ```nums``` sorted in ascending order (with distinct values).\n",
        "\n",
        "Prior to being passed to your function, ```nums``` is possibly rotated at an unknown pivot index ```k (1 <= k < nums.length)``` such that the resulting array is ```[nums[k], nums[k+1], ..., nums[n-1], nums[0], nums[1], ..., nums[k-1]]``` (0-indexed). For example, ```[0,1,2,4,5,6,7]``` might be rotated at pivot index 3 and become ```[4,5,6,7,0,1,2]```.\n",
        "\n",
        "Given the array ```nums``` after the possible rotation and an integer ```target```, return the index of ```target``` if it is in ```nums```, or -1 if it is not in ```nums```.\n",
        "\n",
        "Example:\n",
        "\n",
        "```\n",
        "nums = [4,5,6,7,0,1,2]\n",
        "target = 4\n",
        "\n",
        "Output -> 0\n",
        "```\n",
        "You must write an algorithm with O(log n) runtime complexity."
      ],
      "metadata": {
        "id": "5wrgvgB_SwMq"
      }
    },
    {
      "cell_type": "markdown",
      "source": [
        "## Brute Force approach\n",
        "\n",
        "The simplest method hat one can think of is to try linear search. We simply traverse the given array and check if the current element is our target element. If the current element is the target element, we return the current index; else, we return -1. O(n) time complexity, O(1) space complexity"
      ],
      "metadata": {
        "id": "wQJVRSofgKhb"
      }
    },
    {
      "cell_type": "code",
      "source": [
        "from typing import List\n",
        "\n",
        "def search_rotated_sorted_naive(nums: List[int], target: int) -> int:\n",
        "  for i in range(len(nums)):\n",
        "    if nums[i] == target:\n",
        "      return i\n",
        "  return -1"
      ],
      "metadata": {
        "id": "5m5V12WogJ6x"
      },
      "execution_count": null,
      "outputs": []
    },
    {
      "cell_type": "markdown",
      "source": [
        "## Binary Search approach\n",
        "\n",
        "The approach earlier mentioned did not use the fact that the array was a rotated sorted array. So, in this approach, we try to use this fact to reduce the time complexity. Consider, if we had a sorted array, we would have simply used binary search but in case this is a bit tricky. Here also we are required to used binary search. But if we use binary search, how do we get to know which part of the array to choose once we are at the middle element of the array? Because we cannot simply follow the original binary search algorithm because this is a rotated sorted array. So, there is a slight modification over the normal binary search.\n",
        "\n",
        "So, typically in a binary search, we check if the current element(element at mid index) is same as target, then we return its index. This step remains same here. Other than that, if they are not same, we check if the pivot lies to the right of the current element or to the left. If it lies to the right, then we check if the target lies in non-rotated subarray, if it does we update the high else we update the low. Similarly, if the pivot lies to the left, again we check if the target lies in the non-rotated subarray, we update the low, else we update the high. And in the end, if we come out of the loop, we are sure that the target is not present in the given array."
      ],
      "metadata": {
        "id": "Czicxg-5g9z0"
      }
    },
    {
      "cell_type": "markdown",
      "source": [],
      "metadata": {
        "id": "3xM-0zqdfy-6"
      }
    },
    {
      "cell_type": "code",
      "source": [
        "from typing import List\n",
        "\n",
        "def search_rotated_sorted(nums: List[int], target: int) -> int:\n",
        "  low, high = 0, len(nums)-1\n",
        "\n",
        "  while low <= high:\n",
        "    mid = (low + high)//2\n",
        "\n",
        "    if nums[mid] == target:\n",
        "      return mid\n",
        "    elif nums[low] <= nums[mid]:\n",
        "      if nums[low] <= target < nums[mid]:\n",
        "        high = mid - 1\n",
        "      else:\n",
        "        low = mid + 1\n",
        "    else:\n",
        "      if nums[mid] < target <= nums[high]:\n",
        "        low = mid + 1\n",
        "      else:\n",
        "        high = mid - 1\n",
        "\n",
        "  return -1"
      ],
      "metadata": {
        "id": "gLGBGl9XSu8-"
      },
      "execution_count": null,
      "outputs": []
    },
    {
      "cell_type": "markdown",
      "source": [
        "# Data Stream as Dijoint intervals\n",
        "\n",
        "Given a data stream input of non-negative integers ```a1, a2, ..., an```, summarize the numbers seen so far as a list of disjoint intervals.\n",
        "\n",
        "Implement the ```SummaryRanges``` class:\n",
        "\n",
        "\n",
        "\n",
        "*   ```SummaryRanges()``` Initializes the object with an empty stream.\n",
        "*   ```addNum(value)``` Adds the integer value to the stream.\n",
        "*   ```getIntervals()``` Returns a summary of the integers in the stream currently as a list of disjoint intervals ```[start_i, end_i]```. The answer should be sorted by ```start_i```.\n",
        "\n",
        "\n",
        "Example:\n",
        "```summaryRanges = SummaryRanges();\n",
        "summaryRanges.addNum(1);      // arr = [1]\n",
        "summaryRanges.getIntervals(); // return [[1, 1]]\n",
        "summaryRanges.addNum(3);      // arr = [1, 3]\n",
        "summaryRanges.getIntervals(); // return [[1, 1], [3, 3]]\n",
        "summaryRanges.addNum(7);      // arr = [1, 3, 7]\n",
        "summaryRanges.getIntervals(); // return [[1, 1], [3, 3], [7, 7]]\n",
        "summaryRanges.addNum(2);      // arr = [1, 2, 3, 7]\n",
        "summaryRanges.getIntervals(); // return [[1, 3], [7, 7]]\n",
        "summaryRanges.addNum(6);      // arr = [1, 2, 3, 6, 7]\n",
        "summaryRanges.getIntervals(); // return [[1, 3], [6, 7]]\n",
        "```\n",
        "\n"
      ],
      "metadata": {
        "id": "vKyS-6sRVbCc"
      }
    },
    {
      "cell_type": "code",
      "source": [
        "from typing import List\n",
        "\n",
        "class SummaryRanges:\n",
        "  \"\"\"\n",
        "    In the __init__ method, we initialize an empty list to store the\n",
        "    intervals seen so far\n",
        "  \"\"\"\n",
        "  def __init__(self):\n",
        "    self.intervals = []\n",
        "\n",
        "  \"\"\"\n",
        "    In the addNum method, we iterate through the intervals in the list and find\n",
        "    the index i of the first interval that either overlaps with the new number\n",
        "    or comes after it. We then check if the new number can be merged with either\n",
        "    the interval at index i or the interval before it (i-1). If it can be merged\n",
        "    with the interval at index i, we update the start and end of that interval\n",
        "    to include the new number. If it can be merged with the interval before it,\n",
        "    we update the end of that interval to include the new number. Otherwise, we\n",
        "    create a new interval containing only the new number and insert it at\n",
        "    index i.\n",
        "  \"\"\"\n",
        "  def addNum(self, val: int) -> None:\n",
        "    n = len(self.intervals)\n",
        "    i = 0\n",
        "    while i < n and self.intervals[i][1] < val:\n",
        "      i += 1\n",
        "      \n",
        "    if i < n and self.intervals[i][0] <= val:\n",
        "      return\n",
        "    if i > 0 and self.intervals[i-1][1] == val-1:\n",
        "      self.intervals[i-1][1] = val\n",
        "      if i < n and self.intervals[i][0] == val+1:\n",
        "        self.intervals[i-1][1] = self.intervals[i][1]\n",
        "        del self.intervals[i]\n",
        "    elif i < n and self.intervals[i][0] == val+1:\n",
        "      self.intervals[i][0] = val\n",
        "    else:\n",
        "      self.intervals.insert(i, [val, val])\n",
        "\n",
        "  \"\"\"\n",
        "    In the getIntervals method, we simply return the list of intervals\n",
        "    in sorted order.\n",
        "  \"\"\"\n",
        "  def getIntervals(self) -> List[List[int]]:\n",
        "    return self.intervals"
      ],
      "metadata": {
        "id": "h-u9h7nAU-ne"
      },
      "execution_count": 5,
      "outputs": []
    },
    {
      "cell_type": "markdown",
      "source": [
        "The time complexity of this implementation is **O(n)**, where n is the number of elements added to the data stream. This is because in the worst case, we may need to iterate through all intervals in the list to find the correct position to insert or merge the new number. The space complexity is also **O(n)**, since we need to store all the intervals seen so far in the list."
      ],
      "metadata": {
        "id": "gzN91BknVlcq"
      }
    },
    {
      "cell_type": "code",
      "source": [
        "summaryRanges = SummaryRanges()\n",
        "summaryRanges.addNum(1)      \n",
        "print(summaryRanges.getIntervals())\n",
        "summaryRanges.addNum(3)      \n",
        "print(summaryRanges.getIntervals())\n",
        "summaryRanges.addNum(7)      \n",
        "print(summaryRanges.getIntervals())\n",
        "summaryRanges.addNum(2)      \n",
        "print(summaryRanges.getIntervals())\n",
        "summaryRanges.addNum(6)     \n",
        "print(summaryRanges.getIntervals())"
      ],
      "metadata": {
        "id": "32xb4-1qWAKV",
        "colab": {
          "base_uri": "https://localhost:8080/"
        },
        "outputId": "b6c025f7-ecd0-437c-dc1d-5ab76822d75a"
      },
      "execution_count": 6,
      "outputs": [
        {
          "output_type": "stream",
          "name": "stdout",
          "text": [
            "[[1, 1]]\n",
            "[[1, 1], [3, 3]]\n",
            "[[1, 1], [3, 3], [7, 7]]\n",
            "[[1, 3], [7, 7]]\n",
            "[[1, 3], [6, 7]]\n"
          ]
        }
      ]
    }
  ]
}