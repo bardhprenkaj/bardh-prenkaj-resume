{
  "nbformat": 4,
  "nbformat_minor": 0,
  "metadata": {
    "colab": {
      "provenance": []
    },
    "kernelspec": {
      "name": "python3",
      "display_name": "Python 3"
    },
    "language_info": {
      "name": "python"
    }
  },
  "cells": [
    {
      "cell_type": "markdown",
      "source": [
        "# Merge k Sorted Lists\n",
        "\n",
        "You are given an array of ```k``` linked-lists ```lists```, each linked-list is sorted in ascending order.\n",
        "\n",
        "*Merge all the linked-lists into one sorted linked-list and return it*\n",
        "\n",
        "\n",
        "**Example 1:**\n",
        "\n",
        "```\n",
        "Input: lists = [[1,4,5],[1,3,4],[2,6]]\n",
        "Output: [1,1,2,3,4,4,5,6]\n",
        "Explanation: The linked-lists are:\n",
        "[\n",
        "  1->4->5,\n",
        "  1->3->4,\n",
        "  2->6\n",
        "]\n",
        "merging them into one sorted list:\n",
        "1->1->2->3->4->4->5->6\n",
        "```\n",
        "\n",
        "**Example 2:**\n",
        "```\n",
        "Input: lists = []\n",
        "Output: []\n",
        "```\n",
        "\n",
        "\n",
        "**Example 3:**\n",
        "\n",
        "```\n",
        "Input: lists = [[]]\n",
        "Output: []\n",
        "```\n"
      ],
      "metadata": {
        "id": "PNa82LNMGQc5"
      }
    },
    {
      "cell_type": "markdown",
      "source": [
        "We're going to have a glimpse at Heap-sort and use the built-in Python functions ```heapq.heappush``` and ```heapq.heappop```.\n",
        "\n",
        "1. ```heapq.heappush``` adds an element to the heap while maintaining the heap invariant, which means that the smallest element is always at the root of the heap\n",
        "\n",
        "```\n",
        "heappush(heap, item)\n",
        "```\n",
        "* ```heap```: the heap to which the element will be added\n",
        "* ```item```: the element to be added to the heap\n",
        "\n",
        "2. ```heapq.heappop``` removes and returns the smallest element from the heap, while maintaining the heap invariant.\n",
        "\n",
        "```\n",
        "heappop(heap)\n",
        "```\n",
        "* ```heap```: the heap from which the smallest element will be removed and returned\n",
        "\n"
      ],
      "metadata": {
        "id": "q_yro0W8GUcK"
      }
    },
    {
      "cell_type": "code",
      "execution_count": 1,
      "metadata": {
        "id": "CGk1WkONGKZZ"
      },
      "outputs": [],
      "source": [
        "from typing import List\n",
        "from heapq import heappush, heappop\n",
        "\n",
        "class ListNode:\n",
        "\n",
        "  def __init__(self, val=0, next=None):\n",
        "    self.val = val\n",
        "    self.next = next\n",
        "\n",
        "\n",
        "def merge_k_lists(lists: List[ListNode]) -> ListNode:\n",
        "  values, head, pointer = [], None, None\n",
        "  for l in lists:\n",
        "    while l: \n",
        "      heappush(values, l.val)\n",
        "      l = l.next\n",
        "\n",
        "  while values:\n",
        "    if head is None:\n",
        "      head = ListNode(heappop(values))\n",
        "      pointer = head\n",
        "    else:\n",
        "      pointer.next = ListNode(heappop(values))\n",
        "      pointer=pointer.next\n",
        "  \n",
        "  return head"
      ]
    },
    {
      "cell_type": "markdown",
      "source": [
        "# Pancake sorting\n",
        " \n",
        " Given an array of unique integers ```arr```, sort the array by performing a series of pancake flips.\n",
        "\n",
        "In one pancake flip we do the following steps:\n",
        "\n",
        "1. Choose an integer ```k``` where ```1 <= k <= arr.length```.\n",
        "2. Reverse the sub-array ```arr[0...k-1]``` (0-indexed).\n",
        "\n",
        "For example, if ```arr = [3,2,1,4]``` and we performed a pancake flip choosing ```k = 3```, we reverse the sub-array ```[3,2,1]```, so ```arr = [1,2,3,4]``` after the pancake flip at ```k = 3```.\n",
        "\n",
        "Return an array of the ```k```-values corresponding to a sequence of pancake flips that sort ```arr```.\n",
        "\n",
        "**Example 1:**\n",
        "\n",
        "```\n",
        "Input: arr = [3,2,4,1]\n",
        "Output: [4,2,4,3]\n",
        "Explanation: \n",
        "We perform 4 pancake flips, with k values 4, 2, 4, and 3.\n",
        "Starting state: arr = [3, 2, 4, 1]\n",
        "After 1st flip (k = 4): arr = [1, 4, 2, 3]\n",
        "After 2nd flip (k = 2): arr = [4, 1, 2, 3]\n",
        "After 3rd flip (k = 4): arr = [3, 2, 1, 4]\n",
        "After 4th flip (k = 3): arr = [1, 2, 3, 4], which is sorted.\n",
        "```\n",
        "\n",
        "**Example 2:**\n",
        "\n",
        "```\n",
        "Input: arr = [1,2,3]\n",
        "Output: []\n",
        "Explanation: The input is already sorted, so there is no need to flip anything.\n",
        "Note that other answers, such as [3, 3], would also be accepted.\n",
        "```\n",
        " "
      ],
      "metadata": {
        "id": "Ne5GH05eGeqo"
      }
    },
    {
      "cell_type": "markdown",
      "source": [
        "To solve this problem, we can use a modified selection sort algorithm that performs pancake flips instead of swapping elements. We start with the largest element in the array, and perform a pancake flip to move it to the beginning of the array. Then we perform another pancake flip to move it to its correct position in the sorted array. We repeat this process for the next largest element, and so on, until the array is sorted.\n",
        "\n",
        "\n",
        "1. Initialize an empty array to store the k-values corresponding to the sequence of pancake flips.\n",
        "2. For ```i``` from ```arr.length``` down to ```1```, do the following:\n",
        "3. Find the index of the maximum element in the subarray ```arr[0...i-1]```.\n",
        "4. If the maximum element is not already at index ```i-1```, perform a pancake flip on the subarray ```arr[0...max_index]```.\n",
        "5. If the maximum element is not already at index ```0```, perform a pancake flip on the subarray ```arr[0...i-1]```.\n",
        "\n",
        "\n",
        "Time O(n^2) (reversed is O(n) + index is O(n) + max is O(n)) * while O(n) = O(n^2)\n",
        "\n"
      ],
      "metadata": {
        "id": "cezb1JoTGnkF"
      }
    },
    {
      "cell_type": "code",
      "source": [
        "from typing import List\n",
        "\n",
        "\n",
        "def pancake_sort(arr: List[int]) -> List[int]:\n",
        "  end = len(arr)\n",
        "  res = []\n",
        "  while end > 1:\n",
        "    # get maximum\n",
        "    max_index = arr.index(end)\n",
        "    # if the maximum is already at the end, then it's in the right place\n",
        "    # decrement the end and continue with the other positions\n",
        "    if max_index == end - 1:\n",
        "      end -= 1\n",
        "      continue\n",
        "    \n",
        "    # put the maximum element at index 0, unless if it already was at index 0\n",
        "    if max_index != 0:\n",
        "      # flip the array\n",
        "      arr[:max_index + 1] = reversed(arr[:max_index + 1])\n",
        "      # append flipping size which is max_index + 1\n",
        "      res.append(max_index + 1)\n",
        "\n",
        "    # now max is at the first index\n",
        "    # so now we flip the array to put the maximum at the end\n",
        "    arr[:end] = reversed(arr[:end])\n",
        "    res.append(end)\n",
        "\n",
        "    end -= 1\n",
        "\n",
        "  return arr, res"
      ],
      "metadata": {
        "id": "IqppLI3bGeQ_"
      },
      "execution_count": 2,
      "outputs": []
    },
    {
      "cell_type": "markdown",
      "source": [
        "# Sum of Absolute Differences in a Sorted Array\n",
        "\n",
        "\n",
        "You are given an integer array ```nums``` sorted in **non-decreasing order**.\n",
        "\n",
        "Build and return an integer array result with the same length as ```nums``` such that ```result[i]``` is equal to the summation of absolute differences between ```nums[i]``` and all the other elements in the array.\n",
        "\n",
        "In other words, ```result[i]``` is equal to ```sum(|nums[i]-nums[j]|)``` where ```0 <= j < nums.length``` and ```j != i``` (**0-indexed**).\n",
        "\n",
        "\n",
        "**Example 1:**\n",
        "\n",
        "```\n",
        "Input: nums = [2,3,5]\n",
        "Output: [4,3,5]\n",
        "Explanation: Assuming the arrays are 0-indexed, then\n",
        "result[0] = |2-3| + |2-5| = 1 + 3 = 4,\n",
        "result[1] = |3-2| + |3-5| = 1 + 2 = 3,\n",
        "result[2] = |5-2| + |5-3| = 3 + 2 = 5.\n",
        "```\n",
        "\n",
        "**Example 2:**\n",
        "\n",
        "```\n",
        "Input: nums = [1,4,6,8,10]\n",
        "Output: [24,15,13,15,21]\n",
        "```"
      ],
      "metadata": {
        "id": "AGZmvSN6G9Vs"
      }
    },
    {
      "cell_type": "code",
      "source": [
        "from typing import List\n",
        "\n",
        "def getSumAbsoluteDifferences(nums: List[int]) -> List[int]:\n",
        "  # initialize two variables for keep updating prefix and suffix sums.\n",
        "  prefix_sum, suffix_sum = 0, sum(nums)\n",
        "\t\t\n",
        "\t# lists to store prefix and suffix sums at each indexes\n",
        "  prefix,suffix = [], []\n",
        "\t\t\n",
        "\t# calculating prefix and suffix sums of array\n",
        "  for num in nums:\n",
        "    prefix_sum += num\n",
        "    prefix.append(prefix_sum)\n",
        "    suffix.append(suffix_sum)\n",
        "    suffix_sum -= num\n",
        "\n",
        "  res = []\n",
        "  for i in range(len(nums)):\n",
        "    # from index i all elements till n have higher or equal value since it's sorted\n",
        "    # so |nums[i]-nums[j]| for j>i will equalent to (nums[i]-nums[j])\n",
        "    # for numbers j<i it will be equalent to (nums[j]-nums[i])\n",
        "    \n",
        "    # find the right side sum and difference\n",
        "    suffix_val = suffix[i] - nums[i] * (len(nums) - i)\n",
        "    # find the left side sum and difference\n",
        "    prefix_val = nums[i] * (i+1) - prefix[i]\n",
        "    # append it to the res\n",
        "    res.append(suffix_val + prefix_val)\n",
        "\n",
        "  return res"
      ],
      "metadata": {
        "id": "UmomJypdGlMq"
      },
      "execution_count": null,
      "outputs": []
    }
  ]
}