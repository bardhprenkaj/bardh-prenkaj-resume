{
  "nbformat": 4,
  "nbformat_minor": 0,
  "metadata": {
    "colab": {
      "provenance": []
    },
    "kernelspec": {
      "name": "python3",
      "display_name": "Python 3"
    },
    "language_info": {
      "name": "python"
    }
  },
  "cells": [
    {
      "cell_type": "markdown",
      "source": [
        "# Lab 3 exercises\n",
        "\n",
        "\n",
        "\n",
        "1.   Create a recursive function **mystery(x: int)** that given in input a number x, computes 2^x. Use two recursive calls for the computation of the power.\n",
        "2.   Improve the previous function by writing a new recursive function. What's the execution time of this function with respect to the one written in 1?\n",
        "3.   Can you write the improved version in the iterative way?\n",
        "\n",
        "Measure the execution time by using time.time()\n",
        "\n"
      ],
      "metadata": {
        "id": "uw20Hfy5An5w"
      }
    },
    {
      "cell_type": "code",
      "execution_count": null,
      "metadata": {
        "id": "ALZoYz4JAnkN"
      },
      "outputs": [],
      "source": [
        "import time"
      ]
    },
    {
      "cell_type": "markdown",
      "source": [
        "## Mystery not improved"
      ],
      "metadata": {
        "id": "wWZmLBR9BNKn"
      }
    },
    {
      "cell_type": "code",
      "source": [
        "def mystery(x: int) -> int:\n",
        "  # Write your solution here\n",
        "  return"
      ],
      "metadata": {
        "id": "e2vDSmHdBQSC"
      },
      "execution_count": null,
      "outputs": []
    },
    {
      "cell_type": "markdown",
      "source": [
        "## Mystery improved"
      ],
      "metadata": {
        "id": "641CByREBVMg"
      }
    },
    {
      "cell_type": "code",
      "source": [
        "def mystery_improved(x: int) -> int:\n",
        "  # Write your solution here\n",
        "  return"
      ],
      "metadata": {
        "id": "Ob5z_9XxBW1o"
      },
      "execution_count": null,
      "outputs": []
    },
    {
      "cell_type": "markdown",
      "source": [
        "## Mystery iterative"
      ],
      "metadata": {
        "id": "E2Hy_pRyBbYG"
      }
    },
    {
      "cell_type": "code",
      "source": [
        "def mystery_iterative(x: int) -> int:\n",
        "  # Write your solution here\n",
        "  return"
      ],
      "metadata": {
        "id": "p16_o8YmBab6"
      },
      "execution_count": null,
      "outputs": []
    },
    {
      "cell_type": "markdown",
      "source": [
        "# Testing the execution times"
      ],
      "metadata": {
        "id": "p5BFUh9PBgN5"
      }
    },
    {
      "cell_type": "code",
      "source": [
        "tic = time.time()\n",
        "retr = mystery(4)\n",
        "toc = time.time()\n",
        "\n",
        "print(f'Mystery original for x=4 returns {retr} and requires {toc-tic} seconds to finish')\n",
        "\n",
        "tic = time.time()\n",
        "retr = mystery(6)\n",
        "toc = time.time()\n",
        "\n",
        "print(f'Mystery original for x=4 returns {retr} and requires {toc-tic} seconds to finish')\n",
        "\n",
        "tic = time.time()\n",
        "retr = mystery(32)\n",
        "toc = time.time()\n",
        "\n",
        "print(f'Mystery original for x=4 returns {retr} and requires {toc-tic} seconds to finish')"
      ],
      "metadata": {
        "id": "wIPWZmywBf52"
      },
      "execution_count": null,
      "outputs": []
    },
    {
      "cell_type": "code",
      "source": [
        "### Measure the execution time for all your versions and check how it changes"
      ],
      "metadata": {
        "id": "tKdJs4IMB47e"
      },
      "execution_count": null,
      "outputs": []
    }
  ]
}