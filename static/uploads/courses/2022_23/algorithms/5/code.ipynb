{
  "nbformat": 4,
  "nbformat_minor": 0,
  "metadata": {
    "colab": {
      "provenance": []
    },
    "kernelspec": {
      "name": "python3",
      "display_name": "Python 3"
    },
    "language_info": {
      "name": "python"
    }
  },
  "cells": [
    {
      "cell_type": "markdown",
      "source": [
        "## Managment and Computer Science\n",
        "### Course: Algorithms 2022-2023\n",
        "**Laboratory Lecture 21/02/2023 - Binary Search + some modifications**\n",
        "\n",
        "Contacts:<br/>\n",
        "Irene Finocchi, Flavio Giorgi, Bardh Prenkaj <br/>\n",
        "*finocchi@luiss.it, fgiorgi@luiss.it, bprenkaj@luiss.it*"
      ],
      "metadata": {
        "id": "qo1CLbfX2NDS"
      }
    },
    {
      "cell_type": "markdown",
      "source": [
        "### How to use the file:\n",
        "\n",
        "#### - Remember that in order to run a function you have to call it, the declaration is not enough.\n",
        "#### - If you declared an import or a variable in a cell and you need it in another cell you have to run the cell where you put the declaration otherwise python will give you an exception!"
      ],
      "metadata": {
        "id": "EBC-nyFa2euq"
      }
    },
    {
      "cell_type": "markdown",
      "source": [
        "# Let's implement Binary Search"
      ],
      "metadata": {
        "id": "_RveEC0i2jkM"
      }
    },
    {
      "cell_type": "code",
      "execution_count": null,
      "metadata": {
        "id": "J-7KJ6m30OF9"
      },
      "outputs": [],
      "source": [
        "def binary_search_iterative(arr, target):\n",
        "  \"\"\"\n",
        "    Perform binary search on a sorted array to find a target element iteratively.\n",
        "    \n",
        "    Args:\n",
        "        arr (list): The sorted array to search.\n",
        "        target (int): The target element to search for.\n",
        "    \n",
        "    Returns:\n",
        "        int: The index of the target element if found, or -1 if not found.\n",
        "  \"\"\"\n",
        "  left = 0\n",
        "  right = len(arr) - 1\n",
        "  \n",
        "  while left <= right:\n",
        "    mid = (left + right) // 2\n",
        "    \n",
        "    if arr[mid] == target:\n",
        "      return mid\n",
        "    elif arr[mid] < target:\n",
        "      left = mid + 1\n",
        "    else:\n",
        "      right = mid - 1\n",
        "\n",
        "  return -1"
      ]
    },
    {
      "cell_type": "code",
      "source": [
        "def binary_search_recursive(arr, target):\n",
        "  \"\"\"\n",
        "   Perform binary search on a sorted array to find a target element.\n",
        "    \n",
        "    Args:\n",
        "        arr (list): The sorted array to search.\n",
        "        target (int): The target element to search for.\n",
        "    \n",
        "    Returns:\n",
        "        int: The index of the target element if found, or -1 if not found.\n",
        "  \"\"\"\n",
        "\n",
        "  def _binary_search(arr, target, left, right):\n",
        "    \"\"\"\n",
        "    Recursive helper function for binary search.\n",
        "    \n",
        "    Args:\n",
        "        arr (list): The sorted array to search.\n",
        "        target (int): The target element to search for.\n",
        "        left (int): The left endpoint of the subarray to search.\n",
        "        right (int): The right endpoint of the subarray to search.\n",
        "    \n",
        "    Returns:\n",
        "        int: The index of the target element if found, or -1 if not found.\n",
        "    \"\"\"\n",
        "\n",
        "    if left > right:\n",
        "      return -1\n",
        "    \n",
        "    mid = (left + right) // 2\n",
        "\n",
        "    if arr[mid] == target:\n",
        "      return mid\n",
        "    elif arr[mid] < target:\n",
        "      return _binary_search(arr, target, mid + 1, right)\n",
        "    else:\n",
        "      return _binary_search(arr, target, left, mid - 1)\n",
        "\n",
        "  return _binary_search(arr, target, 0, len(arr) - 1)"
      ],
      "metadata": {
        "id": "fb2NfIsx358S"
      },
      "execution_count": null,
      "outputs": []
    },
    {
      "cell_type": "markdown",
      "source": [
        "The **binary_search_recursive** function takes two arguments: a sorted list arr to search, and a **target** value to search for. It calls a recursive helper function **_binary_search** with additional arguments **left** and **right**, representing the endpoints of the subarray to search. The helper function performs the actual binary search recursively.\n",
        "\n",
        "The helper function first checks if the left endpoint is greater than the right endpoint. If it is, the target value is not found in the subarray, and the function returns -1 to indicate this.\n",
        "\n",
        "If the left endpoint is less than or equal to the right endpoint, the function computes the midpoint of the subarray using integer division **((left + right) // 2)** and compares the value at that index to the target. If the value at the midpoint is equal to the target, the function returns the index of the midpoint. If the value at the midpoint is less than the target, the function makes a recursive call to search the right half of the subarray. Otherwise, it makes a recursive call to search the left half of the subarray.\n",
        "\n",
        "The recursive calls continue until the target value is found, or until the subarray is empty (**left > right**), at which point the function returns -1 to indicate that the target is not present in the list."
      ],
      "metadata": {
        "id": "OozqaaJp6UX3"
      }
    },
    {
      "cell_type": "markdown",
      "source": [
        "## Binary Search modification"
      ],
      "metadata": {
        "id": "NS826lKp2yIq"
      }
    },
    {
      "cell_type": "markdown",
      "source": [
        "Now instead of just returning the index where the **target** value is at the array, we want to return the number of occurrences of the **target** value. We could do that with a simple for loop in the naive way, just like this:"
      ],
      "metadata": {
        "id": "Dmte9Tt32171"
      }
    },
    {
      "cell_type": "code",
      "source": [
        "def count(arr, target):\n",
        "  occurs = 0\n",
        "  for i in range(len(arr)):\n",
        "    if arr[i] == target:\n",
        "      occurs += 1\n",
        "  return occurs"
      ],
      "metadata": {
        "id": "Tm0jwE8b3Ho-"
      },
      "execution_count": null,
      "outputs": []
    },
    {
      "cell_type": "markdown",
      "source": [
        "O(n) is a great asymptothic cost, but we can do better if we have an array in input which is already sorted. We can achieve O(log n). How?"
      ],
      "metadata": {
        "id": "v6Eiu7qH3QcR"
      }
    },
    {
      "cell_type": "code",
      "source": [
        "def count(arr, target):\n",
        "  \"\"\"\n",
        "    Count the number of occurrences of a target value in a sorted array\n",
        "    using binary search.\n",
        "    \n",
        "    Args:\n",
        "        arr (list): The sorted array to search.\n",
        "        target (int): The target value to count occurrences of.\n",
        "    \n",
        "    Returns:\n",
        "        int: The number of occurrences of the target value in the array.\n",
        "  \"\"\"\n",
        "  # Find the index of the first occurrence of the target value\n",
        "  left = 0\n",
        "  right = len(arr) - 1\n",
        "  left_most_index = -1\n",
        "  while left <= right:\n",
        "    mid = (left + right) // 2\n",
        "    if arr[mid] ==  target:\n",
        "      left_most_index = mid   # save the midpoint as a possible left-most index\n",
        "      right = mid - 1   # push the search to the left part\n",
        "    elif arr[mid] < target:\n",
        "      left = mid + 1\n",
        "    else:\n",
        "      right = mid - 1\n",
        "\n",
        "  # if the target value is not found, return 0\n",
        "  if left_most_index == -1:\n",
        "    return 0\n",
        "\n",
        "  # Find the index of the last occurrence of the target value\n",
        "  left = left_most_index\n",
        "  right = len(arr) - 1\n",
        "  right_most_index = left_most_index\n",
        "  while left <= right:\n",
        "    mid = (left + right) // 2\n",
        "    if arr[mid] == target:\n",
        "      right_most_index = mid\n",
        "      left = mid + 1\n",
        "    elif arr[mid] < target:\n",
        "      left = mid + 1\n",
        "    else:\n",
        "      right = mid -1 \n",
        "    \n",
        "  # return the number of the occurrences of the target value\n",
        "  return right_most_index - first_occurrence + 1"
      ],
      "metadata": {
        "id": "6_w3UWOR21kC"
      },
      "execution_count": null,
      "outputs": []
    },
    {
      "cell_type": "markdown",
      "source": [
        "This function first uses binary search to find the index of the first occurrence of the target value in the sorted list, by updating the right endpoint to the left of the current midpoint if the midpoint is equal to or greater than the target value. It then uses another binary search to find the index of the last occurrence of the target value, by updating the left endpoint to the right of the current midpoint if the midpoint is equal to the target value.\n",
        "\n",
        "Finally, the function returns the difference between the indices of the first and last occurrences of the target value, plus 1. If the target value is not found in the list, the function returns 0.\n",
        "\n",
        "\n",
        "Down you can also find the recursive and more pythonic version of the above one."
      ],
      "metadata": {
        "id": "97Bp-Zh36kJ-"
      }
    },
    {
      "cell_type": "code",
      "source": [
        "def count(arr, target):\n",
        "  \"\"\"\n",
        "  Count the number of occurrences of a target value in a sorted array using binary search.\n",
        "  \n",
        "  Args:\n",
        "      arr (list): The sorted array to search.\n",
        "      target (int): The target value to count occurrences of.\n",
        "  \n",
        "  Returns:\n",
        "      int: The number of occurrences of the target value in the array.\n",
        "  \"\"\"\n",
        "  first_occurrence = _binary_search_left(arr, target, 0, len(arr) - 1)\n",
        "  \n",
        "  if first_occurrence == -1:\n",
        "    return 0\n",
        "  \n",
        "  last_occurrence = _binary_search_right(arr, target, first_occurrence, len(arr) - 1)\n",
        "  \n",
        "  return last_occurrence - first_occurrence + 1\n",
        "\n",
        "\n",
        "def _binary_search_left(arr, target, left, right):\n",
        "  if left > right:\n",
        "    return -1\n",
        "  \n",
        "  mid = (left + right) // 2\n",
        "  \n",
        "  if arr[mid] == target and (mid == 0 or arr[mid - 1] < target):\n",
        "    return mid\n",
        "  elif arr[mid] < target:\n",
        "    return _binary_search_left(arr, target, mid + 1, right)\n",
        "  else:\n",
        "    return _binary_search_left(arr, target, left, mid - 1)\n",
        "\n",
        "\n",
        "def _binary_search_right(arr, target, left, right):\n",
        "  if left > right:\n",
        "    return left - 1\n",
        "  \n",
        "  mid = (left + right) // 2\n",
        "  \n",
        "  if arr[mid] == target and (mid == len(arr) - 1 or arr[mid + 1] > target):\n",
        "    return mid\n",
        "  elif arr[mid] > target:\n",
        "    return _binary_search_right(arr, target, left, mid - 1)\n",
        "  else:\n",
        "    return _binary_search_right(arr, target, mid + 1, right)"
      ],
      "metadata": {
        "id": "klA81zDW8rOp"
      },
      "execution_count": null,
      "outputs": []
    },
    {
      "cell_type": "markdown",
      "source": [
        "The **_binary_search_left** function uses binary search to find the index of the first occurrence of the target value, and the **_binary_search_right** function uses binary search to find the index of the last occurrence of the target value. Both functions take the same arguments as the iterative implementation, but are implemented using recursion.\n",
        "\n",
        "The time complexity of this implementation is still O(log n), since each recursive call reduces the size of the search range by half. However, the space complexity is O(log n), since each recursive call creates a new stack frame, and the maximum depth of the recursion is O(log n) for an array of length n."
      ],
      "metadata": {
        "id": "T7KGGT1-9E7g"
      }
    }
  ]
}